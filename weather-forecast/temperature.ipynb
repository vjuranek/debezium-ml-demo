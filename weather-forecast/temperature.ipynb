{
 "cells": [
  {
   "cell_type": "code",
   "execution_count": null,
   "id": "a7f838a8",
   "metadata": {},
   "outputs": [],
   "source": [
    "import numpy as np\n",
    "import tensorflow as tf\n",
    "import tensorflow_io as tfio\n",
    "\n",
    "NUM_COLUMNS=19\n",
    "BATCH_SIZE=64\n",
    "MAX_EPOCHS=10"
   ]
  },
  {
   "cell_type": "code",
   "execution_count": null,
   "id": "eda70764",
   "metadata": {},
   "outputs": [],
   "source": [
    "def decode_kafka_item(item):\n",
    "    vect = tf.io.decode_csv(item.message, [[0.0] for i in range(NUM_COLUMNS)])\n",
    "    t = [vect.pop(1)]\n",
    "    return (vect, t)\n",
    "\n",
    "train_ds = tfio.IODataset.from_kafka(\"tf.public.weather_train\", partition=0, offset=0, servers=\"kafka:9092\")\n",
    "train_ds = train_ds.map(decode_kafka_item)\n",
    "train_ds = train_ds.batch(BATCH_SIZE)"
   ]
  },
  {
   "cell_type": "code",
   "execution_count": null,
   "id": "40411d99",
   "metadata": {},
   "outputs": [],
   "source": [
    "linear = tf.keras.Sequential([\n",
    "   tf.keras.layers.Dense(units=1)\n",
    "])\n",
    "\n",
    "linear.compile(loss=tf.keras.losses.MeanSquaredError(), optimizer=tf.keras.optimizers.Adam(), metrics=['accuracy'])\n",
    "history = linear.fit(train_ds, epochs=MAX_EPOCHS)"
   ]
  },
  {
   "cell_type": "code",
   "execution_count": null,
   "id": "b20b84d6",
   "metadata": {},
   "outputs": [],
   "source": [
    "def decode_kafka_test_item(item_message, item_key):\n",
    "    vect = tf.io.decode_csv(item_message, [[0.0] for i in range(NUM_COLUMNS)])\n",
    "    t = [vect.pop(1)]\n",
    "    return (vect, t)\n",
    "\n",
    "test_ds = tfio.experimental.streaming.KafkaGroupIODataset(\n",
    "    topics=[\"tf.weather.weather_test\"],\n",
    "    group_id=\"testcg2\",\n",
    "    servers=\"kafka:9092\",\n",
    "    stream_timeout=10000,\n",
    "    configuration=[\n",
    "        \"session.timeout.ms=7000\",\n",
    "        \"max.poll.interval.ms=8000\",\n",
    "        \"auto.offset.reset=earliest\"\n",
    "    ],\n",
    ")"
   ]
  },
  {
   "cell_type": "code",
   "execution_count": null,
   "id": "ab342262",
   "metadata": {},
   "outputs": [],
   "source": [
    "test_ds = test_ds.map(decode_kafka_test_item)\n",
    "test_ds = test_ds.batch(BATCH_SIZE)\n",
    "\n",
    "res = linear.evaluate(test_ds)\n",
    "print(\"test loss, test acc:\", res)"
   ]
  }
 ],
 "metadata": {
  "kernelspec": {
   "display_name": "Python 3 (ipykernel)",
   "language": "python",
   "name": "python3"
  },
  "language_info": {
   "codemirror_mode": {
    "name": "ipython",
    "version": 3
   },
   "file_extension": ".py",
   "mimetype": "text/x-python",
   "name": "python",
   "nbconvert_exporter": "python",
   "pygments_lexer": "ipython3",
   "version": "3.8.10"
  }
 },
 "nbformat": 4,
 "nbformat_minor": 5
}
